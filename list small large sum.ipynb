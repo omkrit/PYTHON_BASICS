{
 "cells": [
  {
   "cell_type": "code",
   "execution_count": 11,
   "metadata": {},
   "outputs": [
    {
     "name": "stdout",
     "output_type": "stream",
     "text": [
      "smallest number of list :  1\n"
     ]
    }
   ],
   "source": [
    "# 1. find the smallest number in list \n",
    "\n",
    "list1=[1,2,3,4,5,6,7,8,9]\n",
    "print(\"smallest number of list : \",min(list1))"
   ]
  },
  {
   "cell_type": "code",
   "execution_count": 8,
   "metadata": {},
   "outputs": [
    {
     "name": "stdout",
     "output_type": "stream",
     "text": [
      " second largest number :  7\n"
     ]
    }
   ],
   "source": [
    "#2. find the second last element of list\n",
    "list1=[2,6,3,8,1,7,4,0]\n",
    "list1.sort()\n",
    "print(\" second largest number : \",list1[-2])"
   ]
  },
  {
   "cell_type": "code",
   "execution_count": 7,
   "metadata": {},
   "outputs": [
    {
     "name": "stdout",
     "output_type": "stream",
     "text": [
      "sum :  43\n"
     ]
    }
   ],
   "source": [
    "#3.find sum of number in list\n",
    "list1=[2,6,3,8,1,7,4,0,5,7]\n",
    "print(\"sum : \",sum(list1))"
   ]
  },
  {
   "cell_type": "code",
   "execution_count": 2,
   "metadata": {},
   "outputs": [
    {
     "name": "stdout",
     "output_type": "stream",
     "text": [
      "[3, 6, 9, 11, 23]\n",
      "[3, 6, 9, 11, 23, 1]\n",
      "[3, 6, 11, 23, 1]\n"
     ]
    }
   ],
   "source": [
    "#create list\n",
    "\n",
    "list10=[3,6,9,11,23]\n",
    "print(list10)\n",
    "\n",
    "#append list\n",
    "\n",
    "list10.append(1)\n",
    "print(list10)\n",
    "\n",
    "#remove list\n",
    "\n",
    "list10.remove(9)\n",
    "print(list10)"
   ]
  },
  {
   "cell_type": "code",
   "execution_count": null,
   "metadata": {},
   "outputs": [],
   "source": []
  }
 ],
 "metadata": {
  "kernelspec": {
   "display_name": "Python 3",
   "language": "python",
   "name": "python3"
  },
  "language_info": {
   "codemirror_mode": {
    "name": "ipython",
    "version": 3
   },
   "file_extension": ".py",
   "mimetype": "text/x-python",
   "name": "python",
   "nbconvert_exporter": "python",
   "pygments_lexer": "ipython3",
   "version": "3.7.3"
  }
 },
 "nbformat": 4,
 "nbformat_minor": 2
}
