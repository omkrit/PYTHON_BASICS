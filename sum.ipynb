{
 "cells": [
  {
   "cell_type": "code",
   "execution_count": 5,
   "metadata": {},
   "outputs": [
    {
     "name": "stdout",
     "output_type": "stream",
     "text": [
      "13.6\n",
      "5667\n",
      "565\n",
      "\n"
     ]
    }
   ],
   "source": [
    "var1=\"56\"\n",
    "var4='67'\n",
    "var2=5\n",
    "var3=8.6\n",
    "print(var3+var2)\n",
    "print(var1+var4)\n",
    "print(var1+str(var2))\n",
    "print()"
   ]
  },
  {
   "cell_type": "code",
   "execution_count": 8,
   "metadata": {},
   "outputs": [
    {
     "name": "stdout",
     "output_type": "stream",
     "text": [
      "56565656565656565656\n"
     ]
    }
   ],
   "source": [
    "print(10*var1)"
   ]
  },
  {
   "cell_type": "code",
   "execution_count": 13,
   "metadata": {},
   "outputs": [
    {
     "name": "stdout",
     "output_type": "stream",
     "text": [
      "enter the first number:\n",
      "5\n",
      "you have entered  5\n",
      "6\n",
      "you have entered  6\n",
      "sum :  11\n"
     ]
    }
   ],
   "source": [
    "print(\"enter the first number:\")\n",
    "num1=input()\n",
    "print(\"you have entered \",num1)\n",
    "num2=input()\n",
    "print(\"you have entered \",num2)\n",
    "num3=(int(num1)+int(num2))\n",
    "print(\"sum : \",num3)"
   ]
  },
  {
   "cell_type": "code",
   "execution_count": null,
   "metadata": {},
   "outputs": [],
   "source": []
  },
  {
   "cell_type": "code",
   "execution_count": null,
   "metadata": {},
   "outputs": [],
   "source": []
  }
 ],
 "metadata": {
  "kernelspec": {
   "display_name": "Python 3",
   "language": "python",
   "name": "python3"
  },
  "language_info": {
   "codemirror_mode": {
    "name": "ipython",
    "version": 3
   },
   "file_extension": ".py",
   "mimetype": "text/x-python",
   "name": "python",
   "nbconvert_exporter": "python",
   "pygments_lexer": "ipython3",
   "version": "3.7.3"
  }
 },
 "nbformat": 4,
 "nbformat_minor": 2
}
