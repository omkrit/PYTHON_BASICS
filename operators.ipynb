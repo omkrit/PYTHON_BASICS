{
 "cells": [
  {
   "cell_type": "code",
   "execution_count": 1,
   "metadata": {},
   "outputs": [
    {
     "name": "stdout",
     "output_type": "stream",
     "text": [
      "9+3 is  12\n"
     ]
    }
   ],
   "source": [
    "#airthmatic\n",
    "print(\"9+3 is \",9+3)"
   ]
  },
  {
   "cell_type": "code",
   "execution_count": 3,
   "metadata": {},
   "outputs": [
    {
     "name": "stdout",
     "output_type": "stream",
     "text": [
      "9-3 is 6\n",
      "9*3 is  27\n",
      "9/3 is 3.0\n",
      "9//3 is 3\n",
      "9**3 is  729\n",
      "9%3 is 0\n"
     ]
    }
   ],
   "source": [
    "print(\"9-3 is\",9-3)\n",
    "print(\"9*3 is \",9*3)\n",
    "print(\"9/3 is\",9/3)\n",
    "print(\"9//3 is\",9//3)\n",
    "print(\"9**3 is \",9**3)\n",
    "print(\"9%3 is\",9%3)"
   ]
  },
  {
   "cell_type": "code",
   "execution_count": 6,
   "metadata": {},
   "outputs": [
    {
     "name": "stdout",
     "output_type": "stream",
     "text": [
      "5\n",
      "15\n",
      "5\n",
      "50\n",
      "5.0\n"
     ]
    }
   ],
   "source": [
    "#assignment operators\n",
    "d=5\n",
    "print(d)\n",
    "d+=10\n",
    "print(d)\n",
    "d-=10\n",
    "print(d)\n",
    "d*=10\n",
    "print(d)\n",
    "d/=10\n",
    "print(d)"
   ]
  },
  {
   "cell_type": "code",
   "execution_count": 7,
   "metadata": {},
   "outputs": [
    {
     "name": "stdout",
     "output_type": "stream",
     "text": [
      "False\n"
     ]
    }
   ],
   "source": [
    "#comparison operator\n",
    "i=8\n",
    "print(i==10)"
   ]
  },
  {
   "cell_type": "code",
   "execution_count": null,
   "metadata": {},
   "outputs": [],
   "source": []
  }
 ],
 "metadata": {
  "kernelspec": {
   "display_name": "Python 3",
   "language": "python",
   "name": "python3"
  },
  "language_info": {
   "codemirror_mode": {
    "name": "ipython",
    "version": 3
   },
   "file_extension": ".py",
   "mimetype": "text/x-python",
   "name": "python",
   "nbconvert_exporter": "python",
   "pygments_lexer": "ipython3",
   "version": "3.7.3"
  }
 },
 "nbformat": 4,
 "nbformat_minor": 2
}
