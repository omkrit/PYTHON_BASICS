{
 "cells": [
  {
   "cell_type": "code",
   "execution_count": 3,
   "metadata": {},
   "outputs": [
    {
     "name": "stdout",
     "output_type": "stream",
     "text": [
      "<class 'tuple'> ('one', 'two', 'three', 'four', 'five', 'six', 'seven')\n",
      "three\n",
      "six\n",
      "('two', 'three', 'four', 'five')\n",
      "('three', 'four', 'five')\n",
      "7\n",
      "('one', 'two', 'three', 'four', 'five', 'six', 'seven', 2, 5, 8, 9, 7)\n",
      "<class 'str'> boy\n",
      "<class 'tuple'> ('boys',)\n",
      "<class 'list'> [4, 5, 6]\n",
      "[4, 5, 6]\n"
     ]
    }
   ],
   "source": [
    "#tuple\n",
    "t1=(\"one\",\"two\",\"three\",\"four\",\"five\",\"six\",\"seven\")\n",
    "print(type(t1),t1)\n",
    "print(t1[2])\n",
    "print(t1[-2])\n",
    "print(t1[1:5])\n",
    "print(t1[-5:-2])\n",
    "print(len(t1))\n",
    "t2=(2,5,8,9,7)\n",
    "t3=t1+t2\n",
    "print(t3)\n",
    "t4=(\"boy\")\n",
    "print(type(t4),t4)\n",
    "t5=(\"boys\",)\n",
    "print(type(t5),t5)\n",
    "list1=[4,5,6]\n",
    "print(type(list1),list1)\n",
    "t6=tuple(list1)\n",
    "print(list1)"
   ]
  },
  {
   "cell_type": "code",
   "execution_count": null,
   "metadata": {},
   "outputs": [],
   "source": []
  }
 ],
 "metadata": {
  "kernelspec": {
   "display_name": "Python 3",
   "language": "python",
   "name": "python3"
  },
  "language_info": {
   "codemirror_mode": {
    "name": "ipython",
    "version": 3
   },
   "file_extension": ".py",
   "mimetype": "text/x-python",
   "name": "python",
   "nbconvert_exporter": "python",
   "pygments_lexer": "ipython3",
   "version": "3.7.3"
  }
 },
 "nbformat": 4,
 "nbformat_minor": 2
}
