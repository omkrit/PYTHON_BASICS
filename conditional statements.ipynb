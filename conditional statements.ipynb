{
 "cells": [
  {
   "cell_type": "code",
   "execution_count": 22,
   "metadata": {},
   "outputs": [
    {
     "name": "stdout",
     "output_type": "stream",
     "text": [
      "Enter the age = 10\n",
      "You can't vote\n"
     ]
    }
   ],
   "source": [
    "age=int(input(\"Enter the age = \"))\n",
    "if age>100 or age<0:\n",
    "    print(\"NOT VALID!\")\n",
    "else:\n",
    "    if age<18:\n",
    "        print(\"You can't vote\")\n",
    "    elif age==18:\n",
    "        print(\"You can vote from this year\")\n",
    "    elif age>18:\n",
    "        print(\"You can vote \")\n",
    "    "
   ]
  },
  {
   "cell_type": "code",
   "execution_count": null,
   "metadata": {},
   "outputs": [],
   "source": []
  }
 ],
 "metadata": {
  "kernelspec": {
   "display_name": "Python 3",
   "language": "python",
   "name": "python3"
  },
  "language_info": {
   "codemirror_mode": {
    "name": "ipython",
    "version": 3
   },
   "file_extension": ".py",
   "mimetype": "text/x-python",
   "name": "python",
   "nbconvert_exporter": "python",
   "pygments_lexer": "ipython3",
   "version": "3.7.3"
  }
 },
 "nbformat": 4,
 "nbformat_minor": 2
}
