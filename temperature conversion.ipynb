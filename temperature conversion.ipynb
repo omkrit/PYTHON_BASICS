{
 "cells": [
  {
   "cell_type": "code",
   "execution_count": 6,
   "metadata": {},
   "outputs": [
    {
     "name": "stdout",
     "output_type": "stream",
     "text": [
      "1. fahrenheit to celcious\n",
      "2. celcious to fahrenheit\n",
      "Enter above option 1 or 2 : 1\n",
      "Enter temperature in fahrenheit : 23\n",
      "celcious :  -5.0\n"
     ]
    }
   ],
   "source": [
    "print(\"1. fahrenheit to celcious\\n2. celcious to fahrenheit\")\n",
    "a=int(input(\"Enter above option 1 or 2 : \"))\n",
    "if a==1:\n",
    "    f=float(input(\"Enter temperature in fahrenheit : \"))\n",
    "    c=(f-32)*(5/9)\n",
    "    print(\"celcious : \",c)\n",
    "elif a==2:\n",
    "    c=float(input(\"Enter temperature in celcious : \"))\n",
    "    f=c*(9/5)+32\n",
    "    print(\"fahrenheit : \",f)"
   ]
  },
  {
   "cell_type": "code",
   "execution_count": null,
   "metadata": {},
   "outputs": [],
   "source": []
  }
 ],
 "metadata": {
  "kernelspec": {
   "display_name": "Python 3",
   "language": "python",
   "name": "python3"
  },
  "language_info": {
   "codemirror_mode": {
    "name": "ipython",
    "version": 3
   },
   "file_extension": ".py",
   "mimetype": "text/x-python",
   "name": "python",
   "nbconvert_exporter": "python",
   "pygments_lexer": "ipython3",
   "version": "3.7.3"
  }
 },
 "nbformat": 4,
 "nbformat_minor": 2
}
