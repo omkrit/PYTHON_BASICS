{
 "cells": [
  {
   "cell_type": "code",
   "execution_count": 10,
   "metadata": {},
   "outputs": [
    {
     "name": "stdout",
     "output_type": "stream",
     "text": [
      "<class 'int'>\n",
      "<class 'str'>\n",
      "HELLO\n",
      "<class 'function'>\n",
      "[8, 5, 3]\n",
      "[8, 5, 3, 7]\n",
      "<class 'list'>\n",
      "Omkrit Pandey\n",
      "21\n",
      "varanasi\n",
      "jessica\n",
      "20\n",
      "malout\n"
     ]
    }
   ],
   "source": [
    "#class\n",
    "x=1\n",
    "y=\"hello\"\n",
    "print(type(x))\n",
    "print(type(y))\n",
    "print(y.upper())\n",
    "\n",
    "#print(x.upper())        (gives error due to class difference )\n",
    "#print(x+y)              (gives error due to class difference )\n",
    "\n",
    "def hello():\n",
    "    print(\"hello\")\n",
    "    \n",
    "print(type(hello))\n",
    "list1=[8,5,3]\n",
    "print(list1)\n",
    "list1.append(7)\n",
    "print(list1)\n",
    "print(type(list1))\n",
    "\n",
    "#making class\n",
    "\n",
    "class Student:\n",
    "    pass\n",
    "S=Student()\n",
    "S2=Student()\n",
    "\n",
    "#instance variable\n",
    "S.name=\"Omkrit Pandey\"\n",
    "S.age=21\n",
    "S.city=\"varanasi\"\n",
    "S2.name=\"jessica\"\n",
    "S2.age=20\n",
    "S2.city=\"malout\"\n",
    "print(S.name)\n",
    "print(S.age)\n",
    "print(S.city)\n",
    "\n",
    "print(S2.name)\n",
    "print(S2.age)\n",
    "print(S2.city)"
   ]
  },
  {
   "cell_type": "code",
   "execution_count": 12,
   "metadata": {},
   "outputs": [
    {
     "name": "stdout",
     "output_type": "stream",
     "text": [
      "{'name': 'Omkrit', 'age': 20, 'city': 'Banaras', 'leave': 25}\n",
      "Omkrit\n",
      "10\n",
      "{'__module__': '__main__', 'leave': 10, '__dict__': <attribute '__dict__' of 'Employee' objects>, '__weakref__': <attribute '__weakref__' of 'Employee' objects>, '__doc__': None}\n",
      "10\n"
     ]
    }
   ],
   "source": [
    "class Employee:\n",
    "    leave=10    #class variable\n",
    "    pass\n",
    "person1=Employee()\n",
    "person2=Employee()\n",
    "\n",
    "person1.name=\"Omkrit\"\n",
    "person1.age=20                    #instance variable\n",
    "person1.city=\"Banaras\"\n",
    "person1.leave=25\n",
    "\n",
    "person2.name=\"jessica\"\n",
    "person2.age=20\n",
    "person2.city=\"Malout\"\n",
    "\n",
    "print(person1.__dict__)\n",
    "print(person1.name)\n",
    "\n",
    "print(Employee.leave)\n",
    "print(Employee.__dict__)\n",
    "\n",
    "print(person2.leave)"
   ]
  },
  {
   "cell_type": "code",
   "execution_count": 16,
   "metadata": {},
   "outputs": [
    {
     "name": "stdout",
     "output_type": "stream",
     "text": [
      "19\n",
      "banaras\n"
     ]
    }
   ],
   "source": [
    "class Person:\n",
    "    def __init__(self,name,age,city):\n",
    "        self.n=name\n",
    "        self.a=age\n",
    "        self.c=city\n",
    "    \n",
    "#object\n",
    "person1=Person(\"omkrit\",19,\"banaras\")\n",
    "person2=Person(\"jessica\",20,\"malout\")\n",
    "\n",
    "print(person1.a)\n",
    "print(person1.c)"
   ]
  },
  {
   "cell_type": "code",
   "execution_count": null,
   "metadata": {},
   "outputs": [],
   "source": []
  }
 ],
 "metadata": {
  "kernelspec": {
   "display_name": "Python 3",
   "language": "python",
   "name": "python3"
  },
  "language_info": {
   "codemirror_mode": {
    "name": "ipython",
    "version": 3
   },
   "file_extension": ".py",
   "mimetype": "text/x-python",
   "name": "python",
   "nbconvert_exporter": "python",
   "pygments_lexer": "ipython3",
   "version": "3.7.3"
  }
 },
 "nbformat": 4,
 "nbformat_minor": 2
}
