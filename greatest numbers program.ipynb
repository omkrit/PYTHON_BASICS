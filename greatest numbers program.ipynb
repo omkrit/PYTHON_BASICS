{
 "cells": [
  {
   "cell_type": "code",
   "execution_count": 2,
   "metadata": {},
   "outputs": [
    {
     "name": "stdout",
     "output_type": "stream",
     "text": [
      "3\n",
      "4\n",
      "1\n",
      "greater 4\n"
     ]
    }
   ],
   "source": [
    "#greatest among three\n",
    "\n",
    "a=int(input())\n",
    "b=int(input())\n",
    "c=int(input())\n",
    "if a>b and a>c:\n",
    "    print(\"greater\",a)\n",
    "elif a<b and b>c:\n",
    "    print(\"greater\",b)\n",
    "elif c>b and a<c:\n",
    "    print(\"greater\",c)"
   ]
  },
  {
   "cell_type": "code",
   "execution_count": 18,
   "metadata": {},
   "outputs": [
    {
     "name": "stdout",
     "output_type": "stream",
     "text": [
      "9\n",
      "8\n",
      "4\n"
     ]
    }
   ],
   "source": [
    "# greatest of three numbers in order.\n",
    "def greaterThree(a,b,c):\n",
    "    if a>b and a>c:\n",
    "        print(a)\n",
    "        if b>c:\n",
    "            print(b)\n",
    "            print(c)\n",
    "        else:\n",
    "            print(c)\n",
    "            print(b)\n",
    "    elif b>a and b>c:\n",
    "        print(b)\n",
    "        if a>c:\n",
    "            print(a)\n",
    "            print(c)\n",
    "        else:\n",
    "            print(c)\n",
    "            print(a)\n",
    "    else:\n",
    "        print(c)\n",
    "        if a>b:\n",
    "            print(a)\n",
    "            print(b)\n",
    "        else:\n",
    "            print(b)\n",
    "            print(a)\n",
    "            \n",
    "greaterThree(8,4,9)"
   ]
  },
  {
   "cell_type": "code",
   "execution_count": 74,
   "metadata": {},
   "outputs": [
    {
     "name": "stdout",
     "output_type": "stream",
     "text": [
      "Omkritpandey\n",
      "OmkriTtpandey\n"
     ]
    }
   ],
   "source": [
    "#capitalize a string at 0 and 5th index\n",
    "def cap(name):\n",
    "    if len(name)>6:\n",
    "        if(name[0]==name[0].lower()):\n",
    "            name[0].swapcase()\n",
    "            print(name.capitalize())\n",
    "            if(name[5]==name[5].lower()):\n",
    "                print(name[0].capitalize()+name[1:5]+name[5].capitalize()+name[5:])\n",
    "cap(\"omkritpandey\")\n"
   ]
  },
  {
   "cell_type": "code",
   "execution_count": null,
   "metadata": {},
   "outputs": [],
   "source": []
  }
 ],
 "metadata": {
  "kernelspec": {
   "display_name": "Python 3",
   "language": "python",
   "name": "python3"
  },
  "language_info": {
   "codemirror_mode": {
    "name": "ipython",
    "version": 3
   },
   "file_extension": ".py",
   "mimetype": "text/x-python",
   "name": "python",
   "nbconvert_exporter": "python",
   "pygments_lexer": "ipython3",
   "version": "3.7.3"
  }
 },
 "nbformat": 4,
 "nbformat_minor": 2
}
