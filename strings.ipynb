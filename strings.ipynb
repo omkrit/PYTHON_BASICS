{
 "cells": [
  {
   "cell_type": "code",
   "execution_count": 3,
   "metadata": {},
   "outputs": [
    {
     "name": "stdout",
     "output_type": "stream",
     "text": [
      "hello world\n",
      "first line\n",
      "second line\n"
     ]
    }
   ],
   "source": [
    "#string\n",
    "a=\"hello world\"\n",
    "b='hello world'\n",
    "print(a)\n",
    "x='''first line\n",
    "second line\n",
    "third line'''\n",
    "y=\"\"\"first line\n",
    "second line\"\"\"\n",
    "print(y)"
   ]
  },
  {
   "cell_type": "code",
   "execution_count": 4,
   "metadata": {},
   "outputs": [
    {
     "name": "stdout",
     "output_type": "stream",
     "text": [
      "omkrit is a good student He lives in varanasi\n",
      "r\n",
      "krit is \n",
      "omkri\n",
      "45\n",
      "omkrit is a good student He lives in varanasi\n"
     ]
    }
   ],
   "source": [
    "str1=\"omkrit is a good student He lives in varanasi\"\n",
    "print(str1)\n",
    "print(str1[3])\n",
    "print(str1[2:10])\n",
    "print(str1[0:5])\n",
    "print(len(str1))\n",
    "print(str1[0:80])"
   ]
  },
  {
   "cell_type": "code",
   "execution_count": 5,
   "metadata": {},
   "outputs": [
    {
     "name": "stdout",
     "output_type": "stream",
     "text": [
      "oki sag\n",
      "oki sago tdn elvsi \n",
      "oki sago tdn elvsi aaai\n",
      "ana\n",
      "\n",
      "OMKRIT IS A GOOD STUDENT HE LIVES IN VARANASI\n",
      "Omkrit is a good student he lives in varanasi\n"
     ]
    }
   ],
   "source": [
    "print(str1[0:14:2])\n",
    "print(str1[0:38:2])\n",
    "print(str1[::2])\n",
    "print(str1[-5:-2])\n",
    "print(str1[-2:-5])\n",
    "print(str1.upper())\n",
    "print(str1.capitalize())\n"
   ]
  },
  {
   "cell_type": "code",
   "execution_count": 11,
   "metadata": {},
   "outputs": [
    {
     "name": "stdout",
     "output_type": "stream",
     "text": [
      "jj omkrit how are you?\n",
      "hello   world\n"
     ]
    }
   ],
   "source": [
    "p=\"hello omkrit how are you?\"\n",
    "print(p.replace(\"hello\",\"jj\"))\n",
    "q=\"     hello   world     \"\n",
    "print(q.strip())"
   ]
  },
  {
   "cell_type": "code",
   "execution_count": null,
   "metadata": {},
   "outputs": [],
   "source": []
  }
 ],
 "metadata": {
  "kernelspec": {
   "display_name": "Python 3",
   "language": "python",
   "name": "python3"
  },
  "language_info": {
   "codemirror_mode": {
    "name": "ipython",
    "version": 3
   },
   "file_extension": ".py",
   "mimetype": "text/x-python",
   "name": "python",
   "nbconvert_exporter": "python",
   "pygments_lexer": "ipython3",
   "version": "3.7.3"
  }
 },
 "nbformat": 4,
 "nbformat_minor": 2
}
